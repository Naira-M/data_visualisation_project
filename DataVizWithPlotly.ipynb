{
 "cells": [
  {
   "cell_type": "code",
   "execution_count": null,
   "metadata": {
    "id": "AAIsuRrL20mH"
   },
   "outputs": [],
   "source": [
    "import numpy as np\n",
    "import pandas as pd\n",
    "\n",
    "import plotly.express as px\n",
    "import plotly.graph_objects as go"
   ]
  },
  {
   "cell_type": "code",
   "execution_count": null,
   "metadata": {
    "colab": {
     "base_uri": "https://localhost:8080/"
    },
    "id": "Q7xC56db3wQN",
    "outputId": "5b980ec2-18de-49cd-ff3e-d5aa10c52567"
   },
   "outputs": [],
   "source": [
    "flights = pd.read_csv(\"data/flights.csv\")\n",
    "airports = pd.read_csv(\"data/airports.csv\")"
   ]
  },
  {
   "cell_type": "code",
   "execution_count": null,
   "metadata": {
    "colab": {
     "base_uri": "https://localhost:8080/",
     "height": 542
    },
    "id": "aGMBLRCYDg5l",
    "outputId": "3cff7aa3-da1c-47d7-c61d-b206b486882d"
   },
   "outputs": [],
   "source": [
    "# Map plot of airports\n",
    "fig = px.scatter_mapbox(airports, lat='LATITUDE', lon='LONGITUDE', hover_name='AIRPORT', hover_data=['CITY', 'STATE', 'COUNTRY'], zoom=3, title='Map of Airports')\n",
    "fig.update_layout(mapbox_style=\"open-street-map\")\n",
    "fig.show()"
   ]
  },
  {
   "cell_type": "code",
   "execution_count": null,
   "metadata": {
    "colab": {
     "base_uri": "https://localhost:8080/"
    },
    "id": "ORfA6BpR3-77",
    "outputId": "7b8f14a9-7b84-4e93-dd55-308cc2df801d"
   },
   "outputs": [],
   "source": [
    "flights.columns"
   ]
  },
  {
   "cell_type": "markdown",
   "metadata": {
    "id": "Wix7imoh6hDF"
   },
   "source": [
    "For some plots random sample was chosen, because the data is too big, and it fails to plot for all"
   ]
  },
  {
   "cell_type": "code",
   "execution_count": null,
   "metadata": {
    "id": "ji4wiyKw6s9I"
   },
   "outputs": [],
   "source": [
    "delayed_flights = flights[flights['ARRIVAL_DELAY'] > 0]\n",
    "random_sample = delayed_flights.sample(n=100, random_state=42)"
   ]
  },
  {
   "cell_type": "code",
   "execution_count": null,
   "metadata": {
    "colab": {
     "base_uri": "https://localhost:8080/",
     "height": 542
    },
    "id": "ZEiUStan5aWx",
    "outputId": "789c0121-d542-4534-a1db-d0293e477b78"
   },
   "outputs": [],
   "source": [
    "# Departure delay vs arrival delay\n",
    "fig = px.scatter(random_sample, x='DEPARTURE_DELAY', y='ARRIVAL_DELAY', color='AIRLINE', hover_name='ORIGIN_AIRPORT', title='Departure Delay vs. Arrival Delay')\n",
    "fig.show()"
   ]
  },
  {
   "cell_type": "code",
   "execution_count": null,
   "metadata": {
    "colab": {
     "base_uri": "https://localhost:8080/",
     "height": 542
    },
    "id": "tH2Bp4Vi4aKL",
    "outputId": "4bb7f391-192b-4f2c-822d-fd7e06e28e92"
   },
   "outputs": [],
   "source": [
    "# Scatter plot with animation by year, color by airline, and size by distance\n",
    "fig = px.scatter(data_frame=random_sample, x='DEPARTURE_DELAY', y='ARRIVAL_DELAY', animation_frame='YEAR',\n",
    "                  range_x=[-20, 100], color='AIRLINE', size='DISTANCE',\n",
    "                  title='Animated scatter Plot')\n",
    "fig.show()"
   ]
  },
  {
   "cell_type": "markdown",
   "metadata": {
    "id": "i8ZkBIcH7M_2"
   },
   "source": [
    "Some general histograms and barplots"
   ]
  },
  {
   "cell_type": "code",
   "execution_count": null,
   "metadata": {
    "colab": {
     "base_uri": "https://localhost:8080/",
     "height": 542
    },
    "id": "obezvh484aFX",
    "outputId": "ff0fd5f2-e696-4f03-a885-f0da7bd2ea23"
   },
   "outputs": [],
   "source": [
    "# Departure delays\n",
    "fig = px.histogram(flights, x='DEPARTURE_DELAY', title='Distribution of Departure Delays', range_x=(-30, 60))\n",
    "fig.show()"
   ]
  },
  {
   "cell_type": "code",
   "execution_count": null,
   "metadata": {
    "colab": {
     "base_uri": "https://localhost:8080/",
     "height": 542
    },
    "id": "pCnmkdX14aCe",
    "outputId": "3e03ef50-ad39-4481-99cb-c0e274be2033"
   },
   "outputs": [],
   "source": [
    "# Arrival delays\n",
    "fig = px.histogram(flights, x='ARRIVAL_DELAY', title='Distribution of Arrival Delays', range_x=(-70, 100), range_y=(0, 180000))\n",
    "fig.show()"
   ]
  },
  {
   "cell_type": "code",
   "execution_count": null,
   "metadata": {
    "colab": {
     "base_uri": "https://localhost:8080/",
     "height": 542
    },
    "id": "K9dk-ED_4Z_5",
    "outputId": "1342e452-1601-4606-d6c6-7d47cd16d258"
   },
   "outputs": [],
   "source": [
    "# The number of delayed flights per airline\n",
    "delayed_flight_count_by_airline = delayed_flights['AIRLINE'].value_counts().reset_index()\n",
    "delayed_flight_count_by_airline.columns = ['AIRLINE', 'COUNT']\n",
    "fig = px.bar(delayed_flight_count_by_airline, x='AIRLINE', y='COUNT', title='Number of Delayed Flights per Airline')\n",
    "fig.show()"
   ]
  },
  {
   "cell_type": "code",
   "execution_count": null,
   "metadata": {
    "colab": {
     "base_uri": "https://localhost:8080/",
     "height": 542
    },
    "id": "ZPf9DQxV4Z9B",
    "outputId": "bd104108-bcad-4b91-8fb3-7a01657fd3d8"
   },
   "outputs": [],
   "source": [
    "# The number of flight cancellations by reason\n",
    "\n",
    "reason_mapping = {'A': 'Airline/Carrier', 'B': 'Weather', 'C': 'National Air System', 'D': 'Security'}\n",
    "\n",
    "cancellation_reason_count = flights['CANCELLATION_REASON'].value_counts().reset_index()\n",
    "cancellation_reason_count.columns = ['CANCELLATION_REASON', 'COUNT']\n",
    "cancellation_reason_count['CANCELLATION_REASON'] = cancellation_reason_count['CANCELLATION_REASON'].map(reason_mapping)\n",
    "fig = px.bar(cancellation_reason_count, x='CANCELLATION_REASON', y='COUNT',\n",
    "             title='Flight Cancellations by Reason',\n",
    "             labels={'CANCELLATION_REASON': 'Cancellation Reason', 'COUNT': 'Count'})\n",
    "fig.show()"
   ]
  }
 ],
 "metadata": {
  "colab": {
   "provenance": []
  },
  "kernelspec": {
   "display_name": "Python 3 (ipykernel)",
   "language": "python",
   "name": "python3"
  },
  "language_info": {
   "codemirror_mode": {
    "name": "ipython",
    "version": 3
   },
   "file_extension": ".py",
   "mimetype": "text/x-python",
   "name": "python",
   "nbconvert_exporter": "python",
   "pygments_lexer": "ipython3",
   "version": "3.10.12"
  }
 },
 "nbformat": 4,
 "nbformat_minor": 4
}
